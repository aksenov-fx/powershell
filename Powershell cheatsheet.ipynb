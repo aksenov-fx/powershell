{
 "cells": [
  {
   "cell_type": "code",
   "execution_count": null,
   "metadata": {
    "dotnet_interactive": {
     "language": "csharp"
    },
    "polyglot_notebook": {
     "kernelName": "csharp"
    },
    "vscode": {
     "languageId": "polyglot-notebook"
    }
   },
   "outputs": [],
   "source": [
    "### Basics\n",
    "\n",
    "$PSVersionTable\n",
    "\n",
    "Get-Command | where CommandType -eq 'Cmdlet' | Format-Wide -Column 2\n",
    "Get-Command -Noun Process | Format-Wide -Column 2\n",
    "\n",
    "Get-Process -?\n",
    "Get-Help Get-Process -Online\n",
    "Get-Help Get-Process -ShowWindow\n",
    "Get-Help Get-Process -Full\n",
    "Get-Help about_*\n",
    "\n",
    "Set-Alias list Get-Location\n",
    "Set-Alias np c:\\windows\\notepad.exe\n",
    "Get-Alias - {Tab} #list  parameters\n",
    "\n",
    "Get-History -Count 3\n",
    "\n",
    "Read-Host \"Press Enter\"\n",
    "\n",
    "[Console]::Beep()\n",
    "( 392, 330, 349, 247, 330, 349, 392, 330 ) | ForEach-Object { [Console]::Beep( $_, 500 ) } # use 32767 for pauses\n",
    "\n",
    "$test = @( 'MyDesktop', 'MyLaptop', 'YourDesktop', 'Yourlaptop' ) | Out-GridView -PassThru -Title 'Select your favorite computer'\n",
    "\n",
    "Set-PSDebug -Trace 1\n",
    "Get-TraceSource | Sort-Object Name | Format-Table -AutoSize\n",
    "Trace-Command -Name ParameterBinding, MemberResolution -Expression {Get-MailDomainInfo -DomainName powershellisfun.com} -PSHost\n",
    "Trace-Command -Name * -Expression {Get-MailDomainInfo -DomainName powershellisfun.com} -PSHost\n",
    "\n",
    "$GetWmiObjectParams = @{\n",
    "    Class = \"Win32_LogicalDisk\"\n",
    "    Filter = \"DriveType=3\"\n",
    "    ComputerName = \"SERVER2”\n",
    "    }\n",
    "Get-WmiObject @GetWmiObjectParams\n",
    "\n",
    "&'C:\\Program Files\\Internet Explorer\\iexplore.exe'"
   ]
  },
  {
   "cell_type": "code",
   "execution_count": null,
   "metadata": {
    "vscode": {
     "languageId": "polyglot-notebook"
    }
   },
   "outputs": [],
   "source": [
    "### Output\n",
    "\n",
    "Format-Table\n",
    "Format-Custom\n",
    "Format-Wide\n",
    "Get-Service | Format-List Name, Status, CanStop\n",
    "\n",
    "Out-Default\n",
    "Out-File\n",
    "Out-GridView\n",
    "Out-Host\n",
    "Out-Null\n",
    "Out-Printer\n",
    "Out-String\n",
    "\n",
    "Get-Process 1 Out-GridView -Title \"Процессы\" -PassThru |\n",
    "Format-Table Id, ProcessName\n",
    "\n",
    "<# Записывать данные в различные потоки можно с помощью соответствующих\n",
    "командлетов с глаголом Write: Write-Output, Write-Error, Write-Warning, Write-\n",
    "Verbose, Write-Debug И Write-Information.\n",
    "Например, запишем в поток ошибок новое сообщение: #>\n",
    "\n",
    "Write-Error -Message \"Произошла ошибка\" "
   ]
  },
  {
   "cell_type": "code",
   "execution_count": null,
   "metadata": {
    "vscode": {
     "languageId": "polyglot-notebook"
    }
   },
   "outputs": [],
   "source": [
    "### Objects\n",
    "\n",
    "Get-PSDrive\n",
    "Get-PSProvider\n",
    "New-PSDrive -Name docs -PSProvider FileSystem -Root C:\\Users\\\n",
    "Get-ChildItem - dir, ls\n",
    "\n",
    "Get-Process | Sort cpu\n",
    "\n",
    "Get-Process | Select-Object ProcessName, Id | Get-Member\n",
    "#Select-Object returns System.Management.Automation.PSCustomObject\n",
    "#Get-Process returns System.Diagnostics.Process objects\n",
    "\n",
    "[math] | Get-Member -Static\n",
    "$a=[math]::Sqrt(25)\n",
    "\n",
    "Get-Process | Group-Object Company\n",
    "dir | Measure-Object -Property Length -Sum\n",
    "\n",
    "#Add object and propery\n",
    "$person = New-Object -TypeName \n",
    "Name = \"John\"\n",
    "Age = 30\n",
    "$person | Add-Member -MemberType NoteProperty -Name \"Email\" -Value \"john@example.com\"\n",
    "$person | Select Name, Email"
   ]
  },
  {
   "cell_type": "code",
   "execution_count": null,
   "metadata": {
    "vscode": {
     "languageId": "polyglot-notebook"
    }
   },
   "outputs": [],
   "source": [
    "### Variables\n",
    "\n",
    "$a, $b = 1, 2\n",
    "$a = \"test1\",\"test2\"\n",
    "\n",
    "$myVariable = (Get-ChildItem C:\\Windows).Name\n",
    "$s.Length\n",
    "$s=1\n",
    "$s.GetType()\n",
    "1mb+10kb\n",
    "\n",
    "Test-Path Variable:MyVariabie\n",
    "\n",
    "[System.Int32]$a = 10\n",
    "[int]$a = 10\n",
    "$a = [string]100.1 + [string]9.9\n",
    "$intVariable= [double]$intVariable\n",
    "\n",
    "[validateRange(1,5)][int]$a = 4\n",
    "[validateLength(0,4)][string]$s = 'abed'\n",
    "New-Variable -Name pi -Value 3.14 -Option Constant\n",
    "\n",
    "del Variable:a"
   ]
  },
  {
   "cell_type": "code",
   "execution_count": null,
   "metadata": {
    "vscode": {
     "languageId": "polyglot-notebook"
    }
   },
   "outputs": [],
   "source": [
    "### Dates\n",
    "\n",
    "$dl=Get-Date -Year 2021 -Month 03 -Day 08\n",
    "$d2=Get-Date -Year 2021 -Month 02 -Day 23\n",
    "($dl-$d2).Days #substract dates"
   ]
  },
  {
   "cell_type": "code",
   "execution_count": null,
   "metadata": {
    "vscode": {
     "languageId": "polyglot-notebook"
    }
   },
   "outputs": [],
   "source": [
    "### Strings\n",
    "\n",
    "'Строка в \"одинарных\" кавычках'\n",
    "#Строка в \"одинарных\" кавычках\n",
    "\n",
    "\"Строка в 'двойных' кавычках\"\n",
    "#Строка в 'двойных' кавычках\n",
    "\n",
    "'Строка в ''одинарных кавычках'\n",
    "#Строка в 'одинарных кавычках\n",
    "\n",
    "\"Строка в \"\"двойных кавычках\"\n",
    "#Строка в \"двойных кавычках\n",
    "\n",
    "'$a равно $a'\n",
    "#$a равно $a\n",
    "\n",
    "\"3+2 равно $(3+2)\"\n",
    "#3+2 равно 5\n",
    "\n",
    "$a=@\"\n",
    "1 Первая строка\n",
    "$(1+1) Вторая строка\n",
    "Третья строка\"\n",
    "\"@\n",
    "\n",
    "Select-String '(Error|Setup)' $env:windir\\*.log\n",
    "\n",
    "#Regular expressions\n",
    "\"file.doc\" -like \"f*.doc\"\n",
    "'[hello], world'.Replace([regex]::Escape('[hello]')),'goodbye'\n",
    "#goodbye, world"
   ]
  },
  {
   "cell_type": "code",
   "execution_count": null,
   "metadata": {
    "vscode": {
     "languageId": "polyglot-notebook"
    }
   },
   "outputs": [],
   "source": [
    "### Arrays\n",
    "\n",
    "<# При выполнении оператора += происходит следующее:\n",
    "1. PowerShell создает новый массив, размер которого достаточен для помещения в него всех элементов.\n",
    "2. Первоначальное содержимое массива копируется в новый массив.\n",
    "3. Новые элементы копируются в конец нового массива.\n",
    "\n",
    "Обычный оператор присваивания (=) действует на массивы\n",
    "по ссылке. Например, создадим массив $a из двух элементов и присвоим этот\n",
    "массив переменной $b: #>\n",
    "\n",
    "$args = 1, 2\n",
    "$b = $a\n",
    "$b\n",
    "\n",
    "#Теперь изменим значение первого элемента массива $a и посмотрим еще раз на содержимое массива $b:\n",
    "\n",
    "$a[0] = \"Новое значение\"\n",
    "$b\n",
    "Новое значение\n",
    "2\n",
    "\n",
    "#Как видим, содержимое массива $b также изменилось, т. к. переменная $b указывает\n",
    "#на тот же объект, что и переменная $a.\n",
    "\n",
    "$a[1..2]\n",
    "2\n",
    "3\n",
    "\n",
    "$a = $a[0, 1 + 3..($a.length-1)]\n",
    "\n",
    "$a = [int[] (1,2,3,4)\n",
    "\n",
    "$a = @(1, 2)\n",
    "$b = @(1, 2)\n",
    "$c =@()\n",
    "$c += $a, $b\n",
    "foreach ($obj in $c) {\"test\"} #2 test\n",
    "foreach ($obj in $c) {foreach ($o in $obj) {\"test\"}} #4 test\n",
    "\n",
    "Compare-Object $a $b -Passthru -IncludeEqual -ExcludeDifferent\n",
    "\n",
    "$a = @{ \"one\" =  1; \"two\"= 2 }\n",
    "$b = @{ \"three\" =  3; \"two\"= 22 }\n",
    "Compare-Object @($a.Keys) @($b.Keys) -Passthru -IncludeEqual -ExcludeDifferent"
   ]
  },
  {
   "cell_type": "code",
   "execution_count": null,
   "metadata": {
    "vscode": {
     "languageId": "polyglot-notebook"
    }
   },
   "outputs": [],
   "source": [
    "### Multidimensional/jagged arrays\n",
    "https://powershellbyexample.dev/post/multidimensional-arrays/\n",
    "\n",
    "$array = New-Object 'object[,]' 5,8\n",
    "$array[2,5] = 'Hello'\n",
    "$array[3,7] = 'World!'\n",
    "$array\n",
    "\n",
    "###\n",
    "\n",
    "$mdarray1 = @()\n",
    "$mdarray1_counter = 0\n",
    "$mdarray1 += ,@($mdarray1_counter++, 'Earth',12742)\n",
    "$mdarray1 += ,@($mdarray1_counter++, 'Mars',6779)\n",
    "$mdarray1[1][1] #Mars\n",
    "\n",
    "#In PowerShell, the ,@ operator is called the \"array splatting\" operator. It is used to expand the elements of an array into the encl\n",
    "#In the given code, the ,@ operator is used to add the array ($mdarray1_counter++, 'Earth',12742) as a single element to the end of the $mdarray1 array. \n",
    "#Without the ,@ operator, $mdarray1 += ($mdarray1_counter++, 'Earth',12742) would add \n",
    "#the individual elements of the array to $mdarray1 instead of the entire array as a single element."
   ]
  },
  {
   "cell_type": "code",
   "execution_count": null,
   "metadata": {
    "vscode": {
     "languageId": "polyglot-notebook"
    }
   },
   "outputs": [],
   "source": [
    "### PSObject\n",
    "\n",
    "<#$data = @'\n",
    "Name|Number|Email|\n",
    "Bob| 23| bob.bob@test.com|\n",
    "Tom|124|tom.tom@test.com|\n",
    "Jeff|125|jeff.jeff@test.com|\n",
    "Jeff|127|jeff.jeff@test.com|\n",
    "Jeff|129|jeff.jeff@test.com|\n",
    "Jessica|126|jessica.jessica@test.com|\n",
    "Jessica|132|jessica.jessica@test.com|\n",
    "'@ | ConvertFrom-Csv -Delimiter '|'\n",
    "\n",
    "$row = @'\n",
    "Name|Number|Email|\n",
    "Nikita|30|a@a.com|\n",
    "'@ | ConvertFrom-Csv -Delimiter '|'#>\n",
    "\n",
    "$data += @([pscustomobject]@{Name=\"1\";Number=\"2\";Email=\"3\"})\n",
    "\n",
    "$data | Select-Object -ExcludeProperty Name\n",
    "\n",
    "###\n",
    "\n",
    "$data += @(\n",
    "[pscustomobject]@{Id='1';Service='Service1';Propertyx=1;Price='5'}\n",
    "[pscustomobject]@{Id='1';Service='Service2';Propertyx=1;Price='4'}\n",
    "[pscustomobject]@{Id='2';Service='Service1';Propertyx=1;Price='17'})\n",
    "$data[1].id = 3\n",
    "\n",
    "###\n",
    "\n",
    "https://www.undocumented-features.com/2019/10/09/creating-an-array-with-header-columns-from-a-string-using-pscustomobject/\n",
    "\n",
    "[System.Collections.ArrayList]$ArrayWithHeader = @()\n",
    "$ArrayOfValues = @('a@b.com','b@c.com','c@d.com','d@e.com')\n",
    "foreach ($obj in $ArrayOfValues) \n",
    "{ \n",
    "    $val = [pscustomobject]@{'mail'=$obj;'date'=(Get-Date)}\n",
    "    $ArrayWithHeader.add($val) | Out-Null\n",
    "}\n",
    "\n",
    "$ArrayWithHeader\n",
    "\n",
    "###\n",
    "\n",
    "$Array0, $Array1 | ForEach-Object {\n",
    "    [PSCustomObject]@{\n",
    "        $PSItem[0].Name = $PSItem[0].Value\n",
    "        $PSItem[1].Name = $PSItem[1].Value\n",
    "    }\n",
    "}"
   ]
  },
  {
   "cell_type": "code",
   "execution_count": null,
   "metadata": {
    "vscode": {
     "languageId": "polyglot-notebook"
    }
   },
   "outputs": [],
   "source": [
    "### Hash tables\n",
    "\n",
    "#The value of a hash table entry can be a multi-valued object like an array or collection, or even another hash table or a PSObject.\n",
    "\n",
    "$EmpNumbers = @{\"John Doe\" = 112233; \"Dave Davis\" = 223344; \"Justine Smith\" = 334455}\n",
    "$EmpNumbers += @{\"John\" = 1;}\n",
    "$EmpNumbers.Add(\"John\",\"1\")\n",
    "\n",
    "$EmpNumbers.John = 2\n",
    "$EmpNumbers\n",
    "\n",
    "$user = @{Фамилия=\"Попов\" ; Имя=\"Андреи\"; Телефон=\"55-55-55\"}\n",
    "$user.Фамилия\n",
    "$user[\"Фамилия\", \"Имя\"]\n",
    "\n",
    "###\n",
    "\n",
    "#doesn't work if value is an array\n",
    "$hash = @{\n",
    "    'About Arcane Code' = 'http://arcanecode.me'\n",
    "    'ArcaneCode Blog' = 'https://arcanecode.com'\n",
    "    'ArcaneCode RedGate Articles' = 'http://arcanecode.red'\n",
    "    'ArcaneCode Github Repository' = 'http://arcanerepo.com'}\n",
    "    \n",
    "foreach ($h in $hash.GetEnumerator() )\n",
    "{Write-Host \"$($h.Name) : $($h.Value)\"}\n",
    "    \n",
    "foreach ($h in $hash.Keys) \n",
    "{Write-Host \"$h : $($hash.Item($h))\"}\n",
    "\n",
    "    ###\n",
    "    \n",
    "foreach ($line in $inputData) {\n",
    "    $role = $line -split \" \" \n",
    "    $conflicts[$role[0]] += @($role[1])\n",
    "}\n",
    "\n",
    "###\n",
    "\n",
    "#hash into ps\n",
    "$conflicts_PS = [PSCustomObject]$conflicts"
   ]
  },
  {
   "cell_type": "code",
   "execution_count": null,
   "metadata": {
    "vscode": {
     "languageId": "polyglot-notebook"
    }
   },
   "outputs": [],
   "source": [
    "### Datatables\n",
    "\n",
    "$tempTable = New-Object System.Data.DataTable\n",
    "\n",
    "###Adding Columns for DataTable###\n",
    "$tempTable.columns.Add(\"col1\")\n",
    "$tempTable.columns.Add(\"col2\")\n",
    "$tempTable.columns.Add(\"col3\")\n",
    "\n",
    "#Add a row to DataTable\n",
    "\n",
    "$row = $tempTable.NewRow()\n",
    "$row[“col1”] = “RandomStringData12”\n",
    "$row[“col2”] = “RandomStringData22”\n",
    "$row[“col3”] = \"RandomStringData32\"\n",
    "$tempTable.rows.Add($row)\n",
    "\n",
    "#If you want to modify a table entry you need to select it using Where-Object or the Where() method.\n",
    "$m = $tempTable.where({$_.title -eq 'Justice League'})\n",
    "\n",
    "#Then you can modify it. The tricky part to remember is that $m is technically a collection of DataRow objects, even though there is only one.\n",
    "$m[0].comments = \"DC Comics\"\n",
    "\n",
    "#Or I could have modified it like this:\n",
    "$tempTable.where({$_.title -eq 'Justice League'}).foreach({$_.Comments = \"DC Universe\"})"
   ]
  },
  {
   "cell_type": "code",
   "execution_count": null,
   "metadata": {
    "vscode": {
     "languageId": "polyglot-notebook"
    }
   },
   "outputs": [],
   "source": [
    "### Loops\n",
    "\n",
    "$n = 0; foreach ($f in dir *.txt) { $n += $f.length }\n",
    "$n = 0; dir *.txt | foreach { $n += length }\n",
    "dir *.txt | foreach {$n = 0} { $n += $_.length } { Write-Host $n }\n",
    "\n",
    ":outer while ( $true ) {\n",
    "    while ( $true ) {\n",
    "    break outer }}\n",
    "\n",
    "#Здесь инструкция Break осуществляет выход из внешнего цикла с меткой outer.\n",
    "#Если бы метка не была указана, внешний цикл не завершился бы никогда."
   ]
  },
  {
   "cell_type": "code",
   "execution_count": null,
   "metadata": {
    "vscode": {
     "languageId": "polyglot-notebook"
    }
   },
   "outputs": [],
   "source": [
    "### Functions\n",
    "\n",
    "function split($a1, $a2) {\n",
    "    ForEach ($a1 in $a1) {\n",
    "        $a1 -split \"\\$a2\" }\n",
    "}\n",
    "$Test = split $SQLLoginsAll \\\n",
    "\n",
    "function MyFunc{Get-Command -Noun Process}\n",
    "\n",
    "function add ($x =2, $y = 3) {$x + $y} #default parameters\n",
    "\n",
    "function MyFunc ([switch] $recurse) {\n",
    "    if ($recurse) { \"Рекурсивный вариант функции\"}\n",
    "    else { \"Обычный вариант функции\" } }\n",
    "\n",
    "#Write-host выводит строку на экран, а не в выходной поток, поэтому она не попадет в значение переменной\n",
    "\n",
    "function Get {Select-Object -ExpandProperty $args} #How to pipeline to this?\n",
    "\n",
    "#Если в функцию могут поступать какие-либо параметры по конвейеру, то в ней\n",
    "#обязательно нужно Определить раздел Process.\n",
    "#Для эффективного\n",
    "#использования конвейеров возвращать значения в расширенных функциях следует\n",
    "#в разделе Process (напомним, что он выполняется каждый раз при получении по\n",
    "#конвейеру нового объекта), а не в разделах Begin или End\n",
    "#В расширенных функциях всегда нужно указывать атрибут [CmdietBindingO ],\n",
    "#в этом случае функция будет вести себя как командлет, в том числе будет поддерживать\n",
    "#флаги -verbose (вывод подробной информации о выполняемых командах)\n",
    "#и -Debug (вывод отладочной информации).\n",
    "\n",
    "filter FileSizeBelow($size) { if ($_.length -le $size) { $_ } }\n",
    "gci \\\\server64\\workgroups -filter | FileSizeBelow 200kb\n",
    "\n",
    "function Output-SalesTax ( $Price, [int]$Tax ) {\n",
    "    $Price / $Tax }\n",
    "    Output-SalesTax -price 1000 -tax 38\n",
    "    Output-SalesTax -tax 38 -price 1000 \n",
    "    Output-SalesTax 1000 38\n",
    "\n",
    "function MyFunc {\n",
    "    $OFS = \",\"\n",
    "    \"Привет, $args!\"}\n",
    "    #PS C:\\> MyFunc Андреи Сергеи Иван\n",
    "    #Привет, Андрей,Сергей,Иван!\n",
    "\n",
    "    #все именованные аргументы сопоставляются соответствующим формальным\n",
    "    #параметрам и удаляются из списка аргументов;\n",
    "    #оставшиеся параметры (безымянные или имеющие имя, которому не соответствует\n",
    "    #ни один формальный параметр) сопоставляются формальным параметрам по позиции."
   ]
  },
  {
   "cell_type": "code",
   "execution_count": null,
   "metadata": {
    "vscode": {
     "languageId": "polyglot-notebook"
    }
   },
   "outputs": [],
   "source": [
    "### Lambda / Script-block\n",
    "\n",
    "$alert = { \"Hello World\" }\n",
    "& $alert\n",
    "\n",
    "#Each time the scriptblock is run; it will dynamically read the current value of the variable.\n",
    "#When a scriptblock is run using the “&” (call) operator, updates to a variable are not reflected in the parent scope.\n",
    "#When a scriptblock is run using the “.” (dot) operator, updates to a variable apply to the current scope.\n",
    "#Begin {}, Process {} and End {} blocks can be added to a scriptblock, just like a function\n",
    "\n",
    "###\n",
    "\n",
    "$add = { param($a, $b) $a + $b }\n",
    "$result = &$add 5 3\n",
    "Write-Host \"Result: $result\"\n",
    "\n",
    "$add = { 3 + 5 }\n",
    "$result = &$add\n",
    "Write-Host \"Result: $result\""
   ]
  },
  {
   "cell_type": "code",
   "execution_count": null,
   "metadata": {
    "vscode": {
     "languageId": "polyglot-notebook"
    }
   },
   "outputs": [],
   "source": [
    "### Switch\n",
    "\n",
    "$msg = \"Error, the action failed\"\n",
    "switch ($msg) {\n",
    "    { $_ -like \"Error*\" } { \"Action error\" }\n",
    "    { $_ -like \"Warning*\" } { \"Action warning\" }\n",
    "    { $_ -like \"Successful*\" } { \"Action succesfull\" }\n",
    "}\n",
    "\n",
    "$a = 3\n",
    "switch ($a) {\n",
    "1 {\"Один\"}\n",
    "2 {\"Два\"}\n",
    "3 {\"Три\"; break}\n",
    "4 {\"Четыре\"}\n",
    "3 {\"Еще раз три\"}}\n",
    "#Три\n",
    "\n",
    "switch (3) {\n",
    "    1 {\"1\"}\n",
    "    2 {\"2\"}\n",
    "    default {\"none\")}\n",
    "    \n",
    "switch -wildcard ('абв') {\n",
    "    'а*' {\"$_ начинается с а\"}\n",
    "    '*в' {\"$_ оканчивается на в\"}}\n",
    "\n",
    "switch (10) {\n",
    "    {$_ -gt 5} {\"$_ >5\"}\n",
    "    {$_ -lt 20} {\"$_ <20\"}\n",
    "    10 {\"$_ =10\"}\n",
    "    }\n",
    "\n",
    "switch -wildcard (dir $env:SystemRoot) {\n",
    "    *.txt {$txt++}\n",
    "    *.log {$log++} \n",
    "}\n",
    "\n",
    "switch -wildcard -file $env:SystemRoot\\KB946627.log {\n",
    "    *Source:* {$_}\n",
    "    *Destination:* {$_}\n",
    "}"
   ]
  },
  {
   "cell_type": "code",
   "execution_count": null,
   "metadata": {
    "vscode": {
     "languageId": "polyglot-notebook"
    }
   },
   "outputs": [],
   "source": [
    "### Group\n",
    "\n",
    "<#$data = @'\n",
    "Name|Number|Email|\n",
    "Bob| 23| bob.bob@test.com|\n",
    "Jeff|127|jeff.jeff@test.com|\n",
    "Jeff|129|jeff.jeff@test.com|\n",
    "Jessica|126|jessica.jessica@test.com|\n",
    "Jessica|132|jessica.jessica@test.com|\n",
    "'@ | ConvertFrom-Csv -Delimiter '|'#>\n",
    "\n",
    "$data | Group-Object -Property Name, Email |\n",
    "        Select @{'Name' = 'Name' ; 'Expression' = { $_.Group[0].Name } },\n",
    "        @{'Name' = 'Number' ; 'Expression' = { $_.Group.Number } },\n",
    "        @{'Name' = 'Email' ; 'Expression' = { $_.Group[0].Email } }\n",
    "\n",
    "    ###\n",
    "\n",
    "$data = @(\n",
    "    [pscustomobject]@{Id='1';Service='Service1';Propertyx=1;Price='5'}\n",
    "    [pscustomobject]@{Id='1';Service='Service2';Propertyx=1;Price='4'}\n",
    "    [pscustomobject]@{Id='2';Service='Service1';Propertyx=1;Price='17'}\n",
    ")\n",
    "\n",
    "$data |Group-Object Id\n",
    "\n",
    "$data |Group-Object Id |ForEach-Object {\n",
    "    [pscustomobject]@{\n",
    "    Id  = $_.Name\n",
    "    Sum = $_.Group |Measure-Object Price -Sum |ForEach-Object Sum\n",
    "    #Sum = $_.Group | Select Price\n",
    "    }\n",
    "}\n",
    "\n",
    "###\n",
    "\n",
    "@{BakId=27; Name=DB_A; Lsn=123; File=A_01; Size=987}\n",
    "@{BakId=28; Name=DB_B; Lsn=456; File=B_01; Size=876}\n",
    "@{BakId=28; Name=DB_B; Lsn=456; File=B_02; Size=765}\n",
    "@{BakId=28; Name=DB_B; Lsn=456; File=B_03; Size=654}\n",
    "\n",
    "$list | Group-Object -Property BakId, Lsn, Name |\n",
    "Select-Object @{n='BakId'; e={ $_.Values[0] }}, \n",
    "              @{n='Lsn';   e={ $_.Values[1] }},\n",
    "              @{n='Name';  e={ $_.Values[2] }},\n",
    "              @{n='Files'; e={ $_.Group | Select-Object File, Size }}"
   ]
  },
  {
   "cell_type": "code",
   "execution_count": null,
   "metadata": {
    "vscode": {
     "languageId": "polyglot-notebook"
    }
   },
   "outputs": [],
   "source": [
    "### Self-Update\n",
    "\n",
    "Copy-Item -Path $ScriptUpdateLocation -Destination $mypath -Force\n",
    "Get-Content $ScriptUpdateLocation -Raw | Set-Content $PSCommandPath\n",
    "#$scriptContent | Out-File -FilePath \"$PSScriptRoot\\Check_SQL_Logins_Fixed.ps1\" -Encoding utf8\n",
    "Invoke-Expression -Command $scriptContent"
   ]
  }
 ],
 "metadata": {
  "language_info": {
   "name": "csharp"
  }
 },
 "nbformat": 4,
 "nbformat_minor": 2
}
