{
 "cells": [
  {
   "cell_type": "code",
   "execution_count": null,
   "metadata": {},
   "outputs": [],
   "source": [
    "<# \n",
    ".SYNOPSIS\n",
    "    A script for SQL Logins audit\n",
    "\n",
    ".NOTES\n",
    "                                   __\n",
    "                               _.-~  )\n",
    "                    _..--~~~~,'   ,-/     _\n",
    "                 .-'. . . .'   ,-','    ,' )\n",
    "               ,'. . . _   ,--~,-'__..-'  ,'\n",
    "             ,'. . .  (@)' ---~~~~      ,'\n",
    "            /. . . . '~~             ,-'\n",
    "           /. . . . .             ,-'\n",
    "          ; . . . .  - .        ,'\n",
    "         : . . . .       _     /\n",
    "        . . . ./           `-.:\n",
    "       . . . ./  - .          )\n",
    "    ~---~~~~----~~~~             ~~\n",
    "\n",
    ".DESCRIPTION\n",
    "    .Workflow\n",
    "        [1] Set Variables\n",
    "        [2] Compare SQL Logins with members of AD Groups, print matches and substract matches from SQL Logins\n",
    "        [3] Check which of the remaining SQL Logins are for dismissed employees, print them and substract them from SQL Logins\n",
    "        [4] Print remaining SQL Logins and show which SQL Logins own SQL Jobs and DataBases\n",
    "\n",
    "    .DataFlow\n",
    "\n",
    "     [SQL Logins]       [AD Groups members]           [AD Users]              [DBs, Jobs]\n",
    "        V                        V                        V                        V\n",
    "       [1] --- SQL_Logins.1 >>> [2] --- SQL_Logins.2 >>> [3] --- SQL_Logins.3 >>> [4]\n",
    "        \\__________________dismissed_____________________/     \n",
    "    \n",
    "    .History\n",
    "        Version 1.0 - initial release\n",
    "        Version 1.1 - added Dolphin\n",
    "#>\n",
    "\n",
    "Import-module -Name ActiveDirectory\n",
    "Import-module -Name SqlServer"
   ]
  },
  {
   "cell_type": "code",
   "execution_count": null,
   "metadata": {},
   "outputs": [],
   "source": [
    "##[1.1]## Set variables - Server and groups\n",
    "\n",
    "    #System1\n",
    "    $SQL_Server = \"TestServer\"\n",
    "    $AD_Groups = \"Group1\", \"Group2\", \"Group3\""
   ]
  },
  {
   "cell_type": "code",
   "execution_count": null,
   "metadata": {},
   "outputs": [],
   "source": [
    "##[1.2]## Set variables - SQL Logins\n",
    "\n",
    "    $SQL_Logins_All = Get-SqlLogin `\n",
    "        -logintype \"WindowsUser\" `\n",
    "        -ServerInstance \"$SQL_Server\" | `\n",
    "        Select -Expand Name\n",
    "        #Get data like 'domain\\user'"
   ]
  },
  {
   "cell_type": "code",
   "execution_count": null,
   "metadata": {},
   "outputs": [],
   "source": [
    "##[1.3]## Set variables - Exclusions\n",
    "\n",
    "    $Dismissed = @($SQL_Logins_All.Where{$_ -match \"DISMISSED\\\\\" })\n",
    "\n",
    "    $SQL_Logins_Excluded = @(\n",
    "        \"NT \", \"\\$\",\n",
    "        \"Administrator\",\n",
    "        \"INVSQLService\")\n",
    "\n",
    "    $SQL_Logins = $SQL_Logins_All.Where{$_ `\n",
    "        -notin $Dismissed `\n",
    "        -and $_ -notmatch ($SQL_Logins_Excluded -join \"|\")}"
   ]
  },
  {
   "cell_type": "code",
   "execution_count": null,
   "metadata": {},
   "outputs": [],
   "source": [
    "##[1.4]## Set variables - Define Functions \n",
    "\n",
    "   function GetGroupMembers() {\n",
    "\n",
    "    #[1] Pull data: get data like 'CN=Domain Admins,CN=Users,DC=Fabrikam,DC=com'\n",
    "     $membersAll = Get-ADGroupMember `\n",
    "        -Identity $AD_group `\n",
    "        -Recursive `\n",
    "        -Server \"domain.com\" | `\n",
    "        Select -Expand distinguishedName\n",
    "\n",
    "    #[2] Parse data: format membersAll like SQLLogins\n",
    "     ForEach ($member in $membersAll) {\n",
    "        $memberSplit = $member -split \",\" -replace '(CN=|DC=)'\n",
    "        $members += @($memberSplit[4] + \"\\\" + $memberSplit[0]) }\n",
    "\n",
    "    #[3,4] Process data, Pass data\n",
    "        $global:membersTrue = Compare-Object @($SQL_Logins) @($members) -Passthru -ExcludeDifferent\n",
    "        $global:membersFalse = $members.Where{$_ -notin $membersTrue} \n",
    "        $global:MembersTrueGlobal += $membersTrue }"
   ]
  },
  {
   "cell_type": "code",
   "execution_count": null,
   "metadata": {},
   "outputs": [],
   "source": [
    "##[1.5]## Set variables - Define Functions \n",
    "\n",
    "   function getDismissed() {\n",
    "\n",
    "    #[1] Parse data: Split logins\n",
    "        $domain, $login = $SQL_Login -split \"\\\\\"\n",
    "\n",
    "    #[2, 3, 4] Pull data, Process data, Pass Data: add SQL_Login to dismissed if adUser does not have Enabled=True or is not found in AD\n",
    "        try {$ad_User_Enabled_Status = get-aduser $login -Server \"$domain.com\" | Select -Expand Enabled\n",
    "        If ($ad_User_Enabled_Status -ne \"true\") {$global:Dismissed += $SQL_Login}}\n",
    "    \n",
    "        catch [Microsoft.ActiveDirectory.Management.ADIdentityResolutionException] {\n",
    "        Write \"$SQL_Login not found in $domain.com - consider as dismissed\"\n",
    "        $global:Dismissed += $SQL_Login }}"
   ]
  },
  {
   "cell_type": "code",
   "execution_count": null,
   "metadata": {},
   "outputs": [],
   "source": [
    "#[2]# Get groups members\n",
    "    ForEach ($AD_group in $AD_Groups) {\n",
    "        GetGroupMembers\n",
    "        Write `n\"Logins that are members of $AD_group`:\" ; $membersTrue\n",
    "        Write `n\"Members of $AD_group that are not in SQL Logins:\" ; $membersFalse }\n",
    "    $SQL_Logins = $SQL_Logins.Where{$_ -notin $MembersTrue}"
   ]
  },
  {
   "cell_type": "code",
   "execution_count": null,
   "metadata": {},
   "outputs": [],
   "source": [
    "#[3]# Get Dismissed\n",
    "    Write `n\"Looking for dismissed employees...\"\n",
    "    ForEach ($SQL_Login in $SQL_Logins) { getDismissed }\n",
    "    Write `n\"Dismissed:\"; $Dismissed\n",
    "    $SQL_Logins = $SQL_Logins.Where{$_-notin $Dismissed}"
   ]
  },
  {
   "cell_type": "code",
   "execution_count": null,
   "metadata": {},
   "outputs": [],
   "source": [
    "#[4]# Write results\n",
    "\n",
    "    #[1] Pull data\n",
    "        $DBs = Invoke-Sqlcmd -ServerInstance $SQL_server `\n",
    "        -Query \"SELECT SUSER_SNAME(owner_sid) AS login_name, name AS database_name FROM sys.databases\"\n",
    "\n",
    "        $Jobs = Invoke-Sqlcmd -ServerInstance $SQL_server `\n",
    "        -Query \"SELECT l.name AS login_name, j.name AS job_name FROM msdb.dbo.sysjobs j JOIN sys.syslogins l ON j.owner_sid = l.sid\""
   ]
  },
  {
   "cell_type": "code",
   "execution_count": null,
   "metadata": {},
   "outputs": [],
   "source": [
    "    #[2] Process data\n",
    "        $DBs = $DBs.Where{$_.login_name -notin \"sa\"}\n",
    "        \n",
    "        $Jobs = $Jobs.Where{$_.login_name `\n",
    "            -notin \"sa\" `\n",
    "            -and $_.login_name -notin \"NT AUTHORITY\\SYSTEM\"}"
   ]
  },
  {
   "cell_type": "code",
   "execution_count": null,
   "metadata": {},
   "outputs": [],
   "source": [
    "    #[3] Print data\n",
    "        Write `n\"SQL logins that are not members of groups and are not dismissed:\"; \n",
    "        $SQL_Logins"
   ]
  },
  {
   "cell_type": "code",
   "execution_count": null,
   "metadata": {},
   "outputs": [],
   "source": [
    "        Write `n\"DBs ownership:\"; \n",
    "        $DBs | Out-String"
   ]
  },
  {
   "cell_type": "code",
   "execution_count": null,
   "metadata": {},
   "outputs": [],
   "source": [
    "        Write `n\"Jobs ownership:\" ; \n",
    "        $Jobs | Out-String"
   ]
  }
 ],
 "metadata": {
  "language_info": {
   "name": "csharp"
  }
 },
 "nbformat": 4,
 "nbformat_minor": 2
}
